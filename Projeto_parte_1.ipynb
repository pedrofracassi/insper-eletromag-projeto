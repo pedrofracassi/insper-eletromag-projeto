{
 "cells": [
  {
   "cell_type": "code",
   "execution_count": 45,
   "metadata": {},
   "outputs": [],
   "source": [
    "#Vamos importar os módulos que precisamos\n",
    "from cmath import *\n",
    "from numpy import linalg\n",
    "import numpy as np"
   ]
  },
  {
   "cell_type": "code",
   "execution_count": 46,
   "metadata": {},
   "outputs": [],
   "source": [
    "Ufonte = 10\n",
    "R1 = 1    \n",
    "R2 = 1\n",
    "L1 = 10e-3\n",
    "L2 = 10e-3\n",
    "C1 = 1e-9\n",
    "C2 = 1e-9\n",
    "K = 0.5"
   ]
  },
  {
   "cell_type": "code",
   "execution_count": 47,
   "metadata": {},
   "outputs": [],
   "source": [
    "def CalcularTransformador(Uf, Rc,Freq):\n",
    "    XL1 = 1j * 2*pi*Freq*L1\n",
    "    XL2 = 1j * 2*pi*Freq*L2\n",
    "    XM = 1j * 2*pi*Freq * K * sqrt(L1*L2)\n",
    "    XC1 = 1/(1j * 2*pi*Freq*C1)\n",
    "    XC2 = 1/(1j * 2*pi*Freq*C2)\n",
    "    Rpara = ((Rc*XC2)/ (Rc+XC2))\n",
    "    Z=np.array([[R1+XL1+XC1, -XM],[-XM, R2+XL2+ Rpara ]])\n",
    "    V=np.array([Uf,0])\n",
    "    i=np.dot(linalg.inv(Z),V)\n",
    "\n",
    "    v2 = i[1] * Rpara\n",
    "    return i[0], i[1], v2"
   ]
  },
  {
   "cell_type": "code",
   "execution_count": 48,
   "metadata": {},
   "outputs": [
    {
     "name": "stdout",
     "output_type": "stream",
     "text": [
      "Com resistor na saída de 300.00 Ω:\n",
      "i1 (eficaz) = 0.00 A\n",
      "i2 (eficaz) = 0.00 A\n",
      "V1 (eficaz): 10.00 V\n",
      "V2 (eficaz): 0.00 V\n",
      "Relação N1/N2: 1.00\n",
      "Relação i2/i1: 0.01\n",
      "Relação V1/V2: 1412036.19\n"
     ]
    }
   ],
   "source": [
    "Rcarga = 300\n",
    "i1, i2,v2 = CalcularTransformador(Ufonte, Rcarga,60)\n",
    "\n",
    "print('Com resistor na saída de %.2f Ω:' %Rcarga)\n",
    "print('i1 (eficaz) = %.2f A' %np.abs(i1))\n",
    "print('i2 (eficaz) = %.2f A' %np.abs(i2))\n",
    "print('V1 (eficaz): %.2f V' %Ufonte)\n",
    "print('V2 (eficaz): %.2f V' %(np.abs(i2*Rcarga)))\n",
    "\n",
    "print('Relação N1/N2: %.2f' %(np.abs(sqrt(L1/L2))))\n",
    "print('Relação i2/i1: %.2f' %(np.abs(i2)/np.abs(i1)))\n",
    "print('Relação V1/V2: %.2f' %(np.abs(Ufonte)/np.abs(i2*Rcarga)))\n",
    "\n",
    "\n"
   ]
  },
  {
   "cell_type": "code",
   "execution_count": 49,
   "metadata": {},
   "outputs": [
    {
     "data": {
      "image/png": "[encoded data removed]",
      "text/plain": [
       "<Figure size 432x288 with 1 Axes>"
      ]
     },
     "metadata": {
      "needs_background": "light"
     },
     "output_type": "display_data"
    }
   ],
   "source": [
    "freq = np.linspace(100,100000,1000)\n",
    "i1 = []\n",
    "i2 = []\n",
    "for f in freq:\n",
    "    i_1  = CalcularTransformador(Ufonte, Rcarga,f)[0]\n",
    "    i_2  = CalcularTransformador(Ufonte, Rcarga,f)[1]\n",
    "    i1.append(abs(i_1))\n",
    "    i2.append(abs(i_2))\n",
    "\n",
    "import matplotlib.pyplot as plt\n",
    "plt.plot(freq,i1)\n",
    "plt.plot(freq,i2)\n",
    "plt.xlabel('Frequência (Hz)')\n",
    "plt.ylabel('Corrente (A)')\n",
    "plt.legend(['i1','i2'])\n",
    "plt.show()\n"
   ]
  },
  {
   "cell_type": "code",
   "execution_count": null,
   "metadata": {},
   "outputs": [],
   "source": []
  },
  {
   "cell_type": "code",
   "execution_count": null,
   "metadata": {},
   "outputs": [],
   "source": []
  }
 ],
 "metadata": {
  "kernelspec": {
   "display_name": "base",
   "language": "python",
   "name": "python3"
  },
  "language_info": {
   "codemirror_mode": {
    "name": "ipython",
    "version": 3
   },
   "file_extension": ".py",
   "mimetype": "text/x-python",
   "name": "python",
   "nbconvert_exporter": "python",
   "pygments_lexer": "ipython3",
   "version": "3.8.5"
  },
  "orig_nbformat": 4
 },
 "nbformat": 4,
 "nbformat_minor": 2
}
